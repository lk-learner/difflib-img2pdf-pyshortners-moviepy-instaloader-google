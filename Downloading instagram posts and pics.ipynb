{
 "cells": [
  {
   "cell_type": "markdown",
   "metadata": {},
   "source": [
    "We all come across some wonderful posts on Instagram and want to save them offline on our devices. But the app provides posts to be saved online for later and not offline. This can be done with the amazing python library “instaloader”."
   ]
  },
  {
   "cell_type": "code",
   "execution_count": 1,
   "metadata": {
    "collapsed": true
   },
   "outputs": [
    {
     "name": "stdout",
     "output_type": "stream",
     "text": [
      "Collecting instaloader\n",
      "  Downloading https://files.pythonhosted.org/packages/24/1b/4b91dc0c70681c4a0a7368b148b8c8a713390a63ee4ba7327cf45d7c6957/instaloader-4.6.1.tar.gz (48kB)\n",
      "Requirement already satisfied: requests>=2.4 in c:\\users\\lavy_\\anaconda3\\lib\\site-packages (from instaloader) (2.22.0)\n",
      "Requirement already satisfied: chardet<3.1.0,>=3.0.2 in c:\\users\\lavy_\\anaconda3\\lib\\site-packages (from requests>=2.4->instaloader) (3.0.4)\n",
      "Requirement already satisfied: certifi>=2017.4.17 in c:\\users\\lavy_\\anaconda3\\lib\\site-packages (from requests>=2.4->instaloader) (2020.6.20)\n",
      "Requirement already satisfied: urllib3!=1.25.0,!=1.25.1,<1.26,>=1.21.1 in c:\\users\\lavy_\\anaconda3\\lib\\site-packages (from requests>=2.4->instaloader) (1.24.2)\n",
      "Requirement already satisfied: idna<2.9,>=2.5 in c:\\users\\lavy_\\anaconda3\\lib\\site-packages (from requests>=2.4->instaloader) (2.8)\n",
      "Building wheels for collected packages: instaloader\n",
      "  Building wheel for instaloader (setup.py): started\n",
      "  Building wheel for instaloader (setup.py): finished with status 'done'\n",
      "  Stored in directory: C:\\Users\\lavy_\\AppData\\Local\\pip\\Cache\\wheels\\27\\16\\df\\f8224928c43afcbf391370fd9279b2454d29bcc1739645122e\n",
      "Successfully built instaloader\n",
      "Installing collected packages: instaloader\n",
      "Successfully installed instaloader-4.6.1\n",
      "Note: you may need to restart the kernel to use updated packages.\n"
     ]
    }
   ],
   "source": [
    "pip install instaloader"
   ]
  },
  {
   "cell_type": "code",
   "execution_count": 5,
   "metadata": {
    "collapsed": true
   },
   "outputs": [
    {
     "name": "stdout",
     "output_type": "stream",
     "text": [
      "Stored ID 263440910 for profile justinpjtrudeau.\n",
      "justinpjtrudeau\\2020-11-07_15-27-35_UTC_profile_pic.jpg \n",
      "Retrieving posts from profile justinpjtrudeau.\n",
      "[   1/1451] justinpjtrudeau\\2021-01-30_01-53-34_UTC.jpg [At today’s update, I announce…] \n",
      "HTTP redirect from https://www.instagram.com/graphql/query to https://www.instagram.com/accounts/login/\n",
      "[   2/1451] justinpjtrudeau\\2021-01-28_22-12-41_UTC.jpg [In our house, the family prin…] "
     ]
    },
    {
     "name": "stderr",
     "output_type": "stream",
     "text": [
      "Download <Post CKpsF_MAoaT> of justinpjtrudeau: Redirected to login page. Use --login.\n"
     ]
    },
    {
     "name": "stdout",
     "output_type": "stream",
     "text": [
      "\n",
      "HTTP redirect from https://www.instagram.com/graphql/query to https://www.instagram.com/accounts/login/\n",
      "[   3/1451] justinpjtrudeau\\2021-01-23_20-20-55_UTC.jpg [It was one thing when my son …] "
     ]
    },
    {
     "name": "stderr",
     "output_type": "stream",
     "text": [
      "Download <Post CKmuBW7gLVh> of justinpjtrudeau: Redirected to login page. Use --login.\n"
     ]
    },
    {
     "name": "stdout",
     "output_type": "stream",
     "text": [
      "\n",
      "HTTP redirect from https://www.instagram.com/graphql/query to https://www.instagram.com/accounts/login/\n",
      "[   4/1451] justinpjtrudeau\\2021-01-23_02-05-57_UTC.jpg [When it comes to ending the p…] "
     ]
    },
    {
     "name": "stderr",
     "output_type": "stream",
     "text": [
      "Download <Post CKZpQWGAmAh> of justinpjtrudeau: Redirected to login page. Use --login.\n"
     ]
    },
    {
     "name": "stdout",
     "output_type": "stream",
     "text": [
      "\n",
      "HTTP redirect from https://www.instagram.com/graphql/query to https://www.instagram.com/accounts/login/\n",
      "[   5/1451] justinpjtrudeau\\2021-01-20_17-30-56_UTC.jpg [Congratulations, @JoeBiden, o…] "
     ]
    },
    {
     "name": "stderr",
     "output_type": "stream",
     "text": [
      "Download <Post CKXr8jzA-oq> of justinpjtrudeau: Redirected to login page. Use --login.\n"
     ]
    },
    {
     "name": "stdout",
     "output_type": "stream",
     "text": [
      "\n",
      "HTTP redirect from https://www.instagram.com/graphql/query to https://www.instagram.com/accounts/login/\n",
      "[   6/1451] justinpjtrudeau\\2021-01-12_19-28-22_UTC.jpg [Earlier today, @NavdeepSBains…] "
     ]
    },
    {
     "name": "stderr",
     "output_type": "stream",
     "text": [
      "Download <Post CKRnarnAHce> of justinpjtrudeau: Redirected to login page. Use --login.\n"
     ]
    },
    {
     "name": "stdout",
     "output_type": "stream",
     "text": [
      "\n",
      "HTTP redirect from https://www.instagram.com/graphql/query to https://www.instagram.com/accounts/login/\n",
      "[   7/1451] justinpjtrudeau\\2021-01-12_13-31-48_UTC.jpg [Over the last 5 years, @Navde…]"
     ]
    },
    {
     "name": "stderr",
     "output_type": "stream",
     "text": [
      "Download <Post CJ9Of3nA_H-> of justinpjtrudeau: Redirected to login page. Use --login.\n"
     ]
    },
    {
     "name": "stdout",
     "output_type": "stream",
     "text": [
      " \n",
      "HTTP redirect from https://www.instagram.com/graphql/query to https://www.instagram.com/accounts/login/\n",
      "[   8/1451] justinpjtrudeau\\2021-01-09_16-07-29_UTC.jpg [Austin Fuller served our coun…]"
     ]
    },
    {
     "name": "stderr",
     "output_type": "stream",
     "text": [
      "Download <Post CJ8lsObg226> of justinpjtrudeau: Redirected to login page. Use --login.\n"
     ]
    },
    {
     "name": "stdout",
     "output_type": "stream",
     "text": [
      " \n",
      "HTTP redirect from https://www.instagram.com/graphql/query to https://www.instagram.com/accounts/login/\n",
      "[   9/1451] justinpjtrudeau\\2021-01-04_22-05-39_UTC.jpg [COVID-19 remains a serious pu…] "
     ]
    },
    {
     "name": "stderr",
     "output_type": "stream",
     "text": [
      "Download <Post CJ1JH3fAqr2> of justinpjtrudeau: Redirected to login page. Use --login.\n"
     ]
    },
    {
     "name": "stdout",
     "output_type": "stream",
     "text": [
      "\n",
      "HTTP redirect from https://www.instagram.com/graphql/query to https://www.instagram.com/accounts/login/\n",
      "[  10/1451] justinpjtrudeau\\2020-12-31_21-22-09_UTC.jpg [So much about this year has b…] "
     ]
    },
    {
     "name": "stderr",
     "output_type": "stream",
     "text": [
      "Download <Post CJo6I2OgfNd> of justinpjtrudeau: Redirected to login page. Use --login.\n"
     ]
    },
    {
     "name": "stdout",
     "output_type": "stream",
     "text": [
      "\n",
      "HTTP redirect from https://www.instagram.com/graphql/query to https://www.instagram.com/accounts/login/\n",
      "[  11/1451] justinpjtrudeau\\2020-12-24_20-18-48_UTC.jpg "
     ]
    },
    {
     "name": "stderr",
     "output_type": "stream",
     "text": [
      "Download <Post CJeh-rKAPCr> of justinpjtrudeau: Redirected to login page. Use --login.\n"
     ]
    },
    {
     "name": "stdout",
     "output_type": "stream",
     "text": [
      "[The first doses of Moderna’s …] \n",
      "HTTP redirect from https://www.instagram.com/graphql/query to https://www.instagram.com/accounts/login/\n",
      "[  12/1451] justinpjtrudeau\\2020-12-24_17-29-03_UTC.jpg "
     ]
    },
    {
     "name": "stderr",
     "output_type": "stream",
     "text": [
      "Download <Post CJMZKocgBi8> of justinpjtrudeau: Redirected to login page. Use --login.\n"
     ]
    },
    {
     "name": "stdout",
     "output_type": "stream",
     "text": [
      "[Merry Christmas! I know thing…] \n",
      "HTTP redirect from https://www.instagram.com/graphql/query to https://www.instagram.com/accounts/login/\n"
     ]
    },
    {
     "name": "stderr",
     "output_type": "stream",
     "text": [
      "Download <Post CJMFvR1AT_q> of justinpjtrudeau: Redirected to login page. Use --login.\n"
     ]
    },
    {
     "name": "stdout",
     "output_type": "stream",
     "text": [
      "[  13/1451] justinpjtrudeau\\2020-12-23_23-40-10_UTC.jpg [This afternoon, I connected w…] \n",
      "HTTP redirect from https://www.instagram.com/graphql/query to https://www.instagram.com/accounts/login/\n",
      "[  14/1451] justinpjtrudeau\\2020-12-17_23-49-18_UTC.jpg [Sat down with some Canadian R…]"
     ]
    },
    {
     "name": "stderr",
     "output_type": "stream",
     "text": [
      "Download <Post CJKLajhAj2p> of justinpjtrudeau: Redirected to login page. Use --login.\n"
     ]
    },
    {
     "name": "stdout",
     "output_type": "stream",
     "text": [
      " \n",
      "HTTP redirect from https://www.instagram.com/graphql/query to https://www.instagram.com/accounts/login/\n",
      "[  15/1451] "
     ]
    },
    {
     "name": "stderr",
     "output_type": "stream",
     "text": [
      "Download <Post CI6vsOHASSl> of justinpjtrudeau: Redirected to login page. Use --login.\n"
     ]
    },
    {
     "name": "stdout",
     "output_type": "stream",
     "text": [
      "justinpjtrudeau\\2020-12-15_20-09-20_UTC_1.jpg justinpjtrudeau\\2020-12-15_20-09-20_UTC_2.jpg justinpjtrudeau\\2020-12-15_20-09-20_UTC_3.jpg justinpjtrudeau\\2020-12-15_20-09-20_UTC_4.jpg [The arrival of Pfizer-BioNTec…] \n",
      "HTTP redirect from https://www.instagram.com/graphql/query to https://www.instagram.com/accounts/login/\n",
      "[  16/1451] justinpjtrudeau\\2020-12-14_01-02-34_UTC.jpg [The first batch of doses of P…] "
     ]
    },
    {
     "name": "stderr",
     "output_type": "stream",
     "text": [
      "Download <Post CI1M7XrAF_G> of justinpjtrudeau: Redirected to login page. Use --login.\n"
     ]
    },
    {
     "name": "stdout",
     "output_type": "stream",
     "text": [
      "\n",
      "HTTP redirect from https://www.instagram.com/graphql/query to https://www.instagram.com/accounts/login/\n",
      "[  17/1451] justinpjtrudeau\\2020-12-11_20-39-36_UTC.jpg [We’re going to make your life…] "
     ]
    },
    {
     "name": "stderr",
     "output_type": "stream",
     "text": [
      "Download <Post CIwk5VfgYZb> of justinpjtrudeau: Redirected to login page. Use --login.\n"
     ]
    },
    {
     "name": "stdout",
     "output_type": "stream",
     "text": [
      "\n",
      "HTTP redirect from https://www.instagram.com/graphql/query to https://www.instagram.com/accounts/login/\n",
      "[  18/1451] justinpjtrudeau\\2020-12-11_01-02-32_UTC.jpg [If this were any other year, …]"
     ]
    },
    {
     "name": "stderr",
     "output_type": "stream",
     "text": [
      "Download <Post CIq9NlSAveX> of justinpjtrudeau: Redirected to login page. Use --login.\n"
     ]
    },
    {
     "name": "stdout",
     "output_type": "stream",
     "text": [
      " \n",
      "HTTP redirect from https://www.instagram.com/graphql/query to https://www.instagram.com/accounts/login/\n",
      "[  19/1451] justinpjtrudeau\\2020-12-10_14-33-19_UTC.jpg "
     ]
    },
    {
     "name": "stderr",
     "output_type": "stream",
     "text": [
      "Download <Post CIo2gfmgGgH> of justinpjtrudeau: Redirected to login page. Use --login.\n"
     ]
    },
    {
     "name": "stdout",
     "output_type": "stream",
     "text": [
      "[I’ll never forget this moment…] \n",
      "HTTP redirect from https://www.instagram.com/graphql/query to https://www.instagram.com/accounts/login/\n",
      "[  20/1451] justinpjtrudeau\\2020-12-07_19-30-06_UTC.jpg [UPDATE ON VACCINES: Canada ha…] "
     ]
    },
    {
     "name": "stderr",
     "output_type": "stream",
     "text": [
      "Download <Post CInuf5dgMhL> of justinpjtrudeau: Redirected to login page. Use --login.\n"
     ]
    },
    {
     "name": "stdout",
     "output_type": "stream",
     "text": [
      "\n",
      "Saved resume information to justinpjtrudeau\\iterator_WsjDPfnO.json.xz.\n"
     ]
    },
    {
     "ename": "KeyboardInterrupt",
     "evalue": "",
     "output_type": "error",
     "traceback": [
      "\u001b[1;31m---------------------------------------------------------------------------\u001b[0m",
      "\u001b[1;31mKeyError\u001b[0m                                  Traceback (most recent call last)",
      "\u001b[1;32m~\\Anaconda3\\lib\\site-packages\\instaloader\\structures.py\u001b[0m in \u001b[0;36m_field\u001b[1;34m(self, *keys)\u001b[0m\n\u001b[0;32m    174\u001b[0m             \u001b[1;32mfor\u001b[0m \u001b[0mkey\u001b[0m \u001b[1;32min\u001b[0m \u001b[0mkeys\u001b[0m\u001b[1;33m:\u001b[0m\u001b[1;33m\u001b[0m\u001b[1;33m\u001b[0m\u001b[0m\n\u001b[1;32m--> 175\u001b[1;33m                 \u001b[0md\u001b[0m \u001b[1;33m=\u001b[0m \u001b[0md\u001b[0m\u001b[1;33m[\u001b[0m\u001b[0mkey\u001b[0m\u001b[1;33m]\u001b[0m\u001b[1;33m\u001b[0m\u001b[1;33m\u001b[0m\u001b[0m\n\u001b[0m\u001b[0;32m    176\u001b[0m             \u001b[1;32mreturn\u001b[0m \u001b[0md\u001b[0m\u001b[1;33m\u001b[0m\u001b[1;33m\u001b[0m\u001b[0m\n",
      "\u001b[1;31mKeyError\u001b[0m: 'location'",
      "\nDuring handling of the above exception, another exception occurred:\n",
      "\u001b[1;31mKeyboardInterrupt\u001b[0m                         Traceback (most recent call last)",
      "\u001b[1;32m<ipython-input-5-81237db864b8>\u001b[0m in \u001b[0;36m<module>\u001b[1;34m\u001b[0m\n\u001b[0;32m      6\u001b[0m \u001b[0mprofile_Name\u001b[0m \u001b[1;33m=\u001b[0m \u001b[1;34m'justinpjtrudeau'\u001b[0m\u001b[1;33m\u001b[0m\u001b[1;33m\u001b[0m\u001b[0m\n\u001b[0;32m      7\u001b[0m \u001b[1;31m#do profile_pic_only = True, to download the profile picture\u001b[0m\u001b[1;33m\u001b[0m\u001b[1;33m\u001b[0m\u001b[1;33m\u001b[0m\u001b[0m\n\u001b[1;32m----> 8\u001b[1;33m \u001b[0md\u001b[0m\u001b[1;33m.\u001b[0m\u001b[0mdownload_profile\u001b[0m\u001b[1;33m(\u001b[0m\u001b[0mprofile_Name\u001b[0m\u001b[1;33m,\u001b[0m \u001b[0mprofile_pic_only\u001b[0m \u001b[1;33m=\u001b[0m \u001b[1;32mFalse\u001b[0m\u001b[1;33m)\u001b[0m\u001b[1;33m\u001b[0m\u001b[1;33m\u001b[0m\u001b[0m\n\u001b[0m\u001b[0;32m      9\u001b[0m \u001b[1;31m#you will notice a folder of this profile's name, under which all the posts will get downloaded\u001b[0m\u001b[1;33m\u001b[0m\u001b[1;33m\u001b[0m\u001b[1;33m\u001b[0m\u001b[0m\n",
      "\u001b[1;32m~\\Anaconda3\\lib\\site-packages\\instaloader\\instaloader.py\u001b[0m in \u001b[0;36mdownload_profile\u001b[1;34m(self, profile_name, profile_pic, profile_pic_only, fast_update, download_stories, download_stories_only, download_tagged, download_tagged_only, post_filter, storyitem_filter)\u001b[0m\n\u001b[0;32m   1296\u001b[0m         \u001b[0mself\u001b[0m\u001b[1;33m.\u001b[0m\u001b[0mcontext\u001b[0m\u001b[1;33m.\u001b[0m\u001b[0mlog\u001b[0m\u001b[1;33m(\u001b[0m\u001b[1;34m\"Retrieving posts from profile {}.\"\u001b[0m\u001b[1;33m.\u001b[0m\u001b[0mformat\u001b[0m\u001b[1;33m(\u001b[0m\u001b[0mprofile_name\u001b[0m\u001b[1;33m)\u001b[0m\u001b[1;33m)\u001b[0m\u001b[1;33m\u001b[0m\u001b[1;33m\u001b[0m\u001b[0m\n\u001b[0;32m   1297\u001b[0m         self.posts_download_loop(profile.get_posts(), profile_name, fast_update, post_filter,\n\u001b[1;32m-> 1298\u001b[1;33m                                  total_count=profile.mediacount, owner_profile=profile)\n\u001b[0m\u001b[0;32m   1299\u001b[0m \u001b[1;33m\u001b[0m\u001b[0m\n\u001b[0;32m   1300\u001b[0m     \u001b[1;32mdef\u001b[0m \u001b[0minteractive_login\u001b[0m\u001b[1;33m(\u001b[0m\u001b[0mself\u001b[0m\u001b[1;33m,\u001b[0m \u001b[0musername\u001b[0m\u001b[1;33m:\u001b[0m \u001b[0mstr\u001b[0m\u001b[1;33m)\u001b[0m \u001b[1;33m->\u001b[0m \u001b[1;32mNone\u001b[0m\u001b[1;33m:\u001b[0m\u001b[1;33m\u001b[0m\u001b[1;33m\u001b[0m\u001b[0m\n",
      "\u001b[1;32m~\\Anaconda3\\lib\\site-packages\\instaloader\\instaloader.py\u001b[0m in \u001b[0;36mposts_download_loop\u001b[1;34m(self, posts, target, fast_update, post_filter, max_count, total_count, owner_profile)\u001b[0m\n\u001b[0;32m    848\u001b[0m                     \u001b[1;32mwhile\u001b[0m \u001b[1;32mTrue\u001b[0m\u001b[1;33m:\u001b[0m\u001b[1;33m\u001b[0m\u001b[1;33m\u001b[0m\u001b[0m\n\u001b[0;32m    849\u001b[0m                         \u001b[1;32mtry\u001b[0m\u001b[1;33m:\u001b[0m\u001b[1;33m\u001b[0m\u001b[1;33m\u001b[0m\u001b[0m\n\u001b[1;32m--> 850\u001b[1;33m                             \u001b[0mdownloaded\u001b[0m \u001b[1;33m=\u001b[0m \u001b[0mself\u001b[0m\u001b[1;33m.\u001b[0m\u001b[0mdownload_post\u001b[0m\u001b[1;33m(\u001b[0m\u001b[0mpost\u001b[0m\u001b[1;33m,\u001b[0m \u001b[0mtarget\u001b[0m\u001b[1;33m=\u001b[0m\u001b[0mtarget\u001b[0m\u001b[1;33m)\u001b[0m\u001b[1;33m\u001b[0m\u001b[1;33m\u001b[0m\u001b[0m\n\u001b[0m\u001b[0;32m    851\u001b[0m                             \u001b[1;32mbreak\u001b[0m\u001b[1;33m\u001b[0m\u001b[1;33m\u001b[0m\u001b[0m\n\u001b[0;32m    852\u001b[0m                         \u001b[1;32mexcept\u001b[0m \u001b[0mPostChangedException\u001b[0m\u001b[1;33m:\u001b[0m\u001b[1;33m\u001b[0m\u001b[1;33m\u001b[0m\u001b[0m\n",
      "\u001b[1;32m~\\Anaconda3\\lib\\site-packages\\instaloader\\instaloader.py\u001b[0m in \u001b[0;36mdownload_post\u001b[1;34m(self, post, target)\u001b[0m\n\u001b[0;32m    604\u001b[0m \u001b[1;33m\u001b[0m\u001b[0m\n\u001b[0;32m    605\u001b[0m         \u001b[1;31m# Download geotags if desired\u001b[0m\u001b[1;33m\u001b[0m\u001b[1;33m\u001b[0m\u001b[1;33m\u001b[0m\u001b[0m\n\u001b[1;32m--> 606\u001b[1;33m         \u001b[1;32mif\u001b[0m \u001b[0mself\u001b[0m\u001b[1;33m.\u001b[0m\u001b[0mdownload_geotags\u001b[0m \u001b[1;32mand\u001b[0m \u001b[0mpost\u001b[0m\u001b[1;33m.\u001b[0m\u001b[0mlocation\u001b[0m\u001b[1;33m:\u001b[0m\u001b[1;33m\u001b[0m\u001b[1;33m\u001b[0m\u001b[0m\n\u001b[0m\u001b[0;32m    607\u001b[0m             \u001b[0mself\u001b[0m\u001b[1;33m.\u001b[0m\u001b[0msave_location\u001b[0m\u001b[1;33m(\u001b[0m\u001b[0mfilename\u001b[0m\u001b[1;33m,\u001b[0m \u001b[0mpost\u001b[0m\u001b[1;33m.\u001b[0m\u001b[0mlocation\u001b[0m\u001b[1;33m,\u001b[0m \u001b[0mpost\u001b[0m\u001b[1;33m.\u001b[0m\u001b[0mdate_local\u001b[0m\u001b[1;33m)\u001b[0m\u001b[1;33m\u001b[0m\u001b[1;33m\u001b[0m\u001b[0m\n\u001b[0;32m    608\u001b[0m \u001b[1;33m\u001b[0m\u001b[0m\n",
      "\u001b[1;32m~\\Anaconda3\\lib\\site-packages\\instaloader\\structures.py\u001b[0m in \u001b[0;36mlocation\u001b[1;34m(self)\u001b[0m\n\u001b[0;32m    524\u001b[0m            \u001b[0mRequire\u001b[0m \u001b[0mbeing\u001b[0m \u001b[0mlogged\u001b[0m \u001b[1;32min\u001b[0m \u001b[1;33m(\u001b[0m\u001b[1;32mas\u001b[0m \u001b[0mrequired\u001b[0m \u001b[0mby\u001b[0m \u001b[0mInstagram\u001b[0m\u001b[1;33m)\u001b[0m\u001b[1;33m,\u001b[0m \u001b[1;32mreturn\u001b[0m \u001b[1;32mNone\u001b[0m \u001b[1;32mif\u001b[0m \u001b[1;32mnot\u001b[0m \u001b[0mlogged\u001b[0m\u001b[1;33m-\u001b[0m\u001b[1;32min\u001b[0m\u001b[1;33m.\u001b[0m\u001b[1;33m\u001b[0m\u001b[1;33m\u001b[0m\u001b[0m\n\u001b[0;32m    525\u001b[0m         \"\"\"\n\u001b[1;32m--> 526\u001b[1;33m         \u001b[0mloc\u001b[0m \u001b[1;33m=\u001b[0m \u001b[0mself\u001b[0m\u001b[1;33m.\u001b[0m\u001b[0m_field\u001b[0m\u001b[1;33m(\u001b[0m\u001b[1;34m\"location\"\u001b[0m\u001b[1;33m)\u001b[0m\u001b[1;33m\u001b[0m\u001b[1;33m\u001b[0m\u001b[0m\n\u001b[0m\u001b[0;32m    527\u001b[0m         \u001b[1;32mif\u001b[0m \u001b[0mself\u001b[0m\u001b[1;33m.\u001b[0m\u001b[0m_location\u001b[0m \u001b[1;32mor\u001b[0m \u001b[1;32mnot\u001b[0m \u001b[0mloc\u001b[0m\u001b[1;33m:\u001b[0m\u001b[1;33m\u001b[0m\u001b[1;33m\u001b[0m\u001b[0m\n\u001b[0;32m    528\u001b[0m             \u001b[1;32mreturn\u001b[0m \u001b[0mself\u001b[0m\u001b[1;33m.\u001b[0m\u001b[0m_location\u001b[0m\u001b[1;33m\u001b[0m\u001b[1;33m\u001b[0m\u001b[0m\n",
      "\u001b[1;32m~\\Anaconda3\\lib\\site-packages\\instaloader\\structures.py\u001b[0m in \u001b[0;36m_field\u001b[1;34m(self, *keys)\u001b[0m\n\u001b[0;32m    176\u001b[0m             \u001b[1;32mreturn\u001b[0m \u001b[0md\u001b[0m\u001b[1;33m\u001b[0m\u001b[1;33m\u001b[0m\u001b[0m\n\u001b[0;32m    177\u001b[0m         \u001b[1;32mexcept\u001b[0m \u001b[0mKeyError\u001b[0m\u001b[1;33m:\u001b[0m\u001b[1;33m\u001b[0m\u001b[1;33m\u001b[0m\u001b[0m\n\u001b[1;32m--> 178\u001b[1;33m             \u001b[0md\u001b[0m \u001b[1;33m=\u001b[0m \u001b[0mself\u001b[0m\u001b[1;33m.\u001b[0m\u001b[0m_full_metadata\u001b[0m\u001b[1;33m\u001b[0m\u001b[1;33m\u001b[0m\u001b[0m\n\u001b[0m\u001b[0;32m    179\u001b[0m             \u001b[1;32mfor\u001b[0m \u001b[0mkey\u001b[0m \u001b[1;32min\u001b[0m \u001b[0mkeys\u001b[0m\u001b[1;33m:\u001b[0m\u001b[1;33m\u001b[0m\u001b[1;33m\u001b[0m\u001b[0m\n\u001b[0;32m    180\u001b[0m                 \u001b[0md\u001b[0m \u001b[1;33m=\u001b[0m \u001b[0md\u001b[0m\u001b[1;33m[\u001b[0m\u001b[0mkey\u001b[0m\u001b[1;33m]\u001b[0m\u001b[1;33m\u001b[0m\u001b[1;33m\u001b[0m\u001b[0m\n",
      "\u001b[1;32m~\\Anaconda3\\lib\\site-packages\\instaloader\\structures.py\u001b[0m in \u001b[0;36m_full_metadata\u001b[1;34m(self)\u001b[0m\n\u001b[0;32m    155\u001b[0m     \u001b[1;33m@\u001b[0m\u001b[0mproperty\u001b[0m\u001b[1;33m\u001b[0m\u001b[1;33m\u001b[0m\u001b[0m\n\u001b[0;32m    156\u001b[0m     \u001b[1;32mdef\u001b[0m \u001b[0m_full_metadata\u001b[0m\u001b[1;33m(\u001b[0m\u001b[0mself\u001b[0m\u001b[1;33m)\u001b[0m \u001b[1;33m->\u001b[0m \u001b[0mDict\u001b[0m\u001b[1;33m[\u001b[0m\u001b[0mstr\u001b[0m\u001b[1;33m,\u001b[0m \u001b[0mAny\u001b[0m\u001b[1;33m]\u001b[0m\u001b[1;33m:\u001b[0m\u001b[1;33m\u001b[0m\u001b[1;33m\u001b[0m\u001b[0m\n\u001b[1;32m--> 157\u001b[1;33m         \u001b[0mself\u001b[0m\u001b[1;33m.\u001b[0m\u001b[0m_obtain_metadata\u001b[0m\u001b[1;33m(\u001b[0m\u001b[1;33m)\u001b[0m\u001b[1;33m\u001b[0m\u001b[1;33m\u001b[0m\u001b[0m\n\u001b[0m\u001b[0;32m    158\u001b[0m         \u001b[1;32massert\u001b[0m \u001b[0mself\u001b[0m\u001b[1;33m.\u001b[0m\u001b[0m_full_metadata_dict\u001b[0m \u001b[1;32mis\u001b[0m \u001b[1;32mnot\u001b[0m \u001b[1;32mNone\u001b[0m\u001b[1;33m\u001b[0m\u001b[1;33m\u001b[0m\u001b[0m\n\u001b[0;32m    159\u001b[0m         \u001b[1;32mreturn\u001b[0m \u001b[0mself\u001b[0m\u001b[1;33m.\u001b[0m\u001b[0m_full_metadata_dict\u001b[0m\u001b[1;33m\u001b[0m\u001b[1;33m\u001b[0m\u001b[0m\n",
      "\u001b[1;32m~\\Anaconda3\\lib\\site-packages\\instaloader\\structures.py\u001b[0m in \u001b[0;36m_obtain_metadata\u001b[1;34m(self)\u001b[0m\n\u001b[0;32m    144\u001b[0m             pic_json = self._context.graphql_query(\n\u001b[0;32m    145\u001b[0m                 \u001b[1;34m'2b0673e0dc4580674a88d426fe00ea90'\u001b[0m\u001b[1;33m,\u001b[0m\u001b[1;33m\u001b[0m\u001b[1;33m\u001b[0m\u001b[0m\n\u001b[1;32m--> 146\u001b[1;33m                 \u001b[1;33m{\u001b[0m\u001b[1;34m'shortcode'\u001b[0m\u001b[1;33m:\u001b[0m \u001b[0mself\u001b[0m\u001b[1;33m.\u001b[0m\u001b[0mshortcode\u001b[0m\u001b[1;33m}\u001b[0m\u001b[1;33m\u001b[0m\u001b[1;33m\u001b[0m\u001b[0m\n\u001b[0m\u001b[0;32m    147\u001b[0m             )\n\u001b[0;32m    148\u001b[0m             \u001b[0mself\u001b[0m\u001b[1;33m.\u001b[0m\u001b[0m_full_metadata_dict\u001b[0m \u001b[1;33m=\u001b[0m \u001b[0mpic_json\u001b[0m\u001b[1;33m[\u001b[0m\u001b[1;34m'data'\u001b[0m\u001b[1;33m]\u001b[0m\u001b[1;33m[\u001b[0m\u001b[1;34m'shortcode_media'\u001b[0m\u001b[1;33m]\u001b[0m\u001b[1;33m\u001b[0m\u001b[1;33m\u001b[0m\u001b[0m\n",
      "\u001b[1;32m~\\Anaconda3\\lib\\site-packages\\instaloader\\instaloadercontext.py\u001b[0m in \u001b[0;36mgraphql_query\u001b[1;34m(self, query_hash, variables, referer, rhx_gis)\u001b[0m\n\u001b[0;32m    417\u001b[0m                                       params={'query_hash': query_hash,\n\u001b[0;32m    418\u001b[0m                                               'variables': variables_json},\n\u001b[1;32m--> 419\u001b[1;33m                                       session=tmpsession)\n\u001b[0m\u001b[0;32m    420\u001b[0m         \u001b[1;32mif\u001b[0m \u001b[1;34m'status'\u001b[0m \u001b[1;32mnot\u001b[0m \u001b[1;32min\u001b[0m \u001b[0mresp_json\u001b[0m\u001b[1;33m:\u001b[0m\u001b[1;33m\u001b[0m\u001b[1;33m\u001b[0m\u001b[0m\n\u001b[0;32m    421\u001b[0m             \u001b[0mself\u001b[0m\u001b[1;33m.\u001b[0m\u001b[0merror\u001b[0m\u001b[1;33m(\u001b[0m\u001b[1;34m\"GraphQL response did not contain a \\\"status\\\" field.\"\u001b[0m\u001b[1;33m)\u001b[0m\u001b[1;33m\u001b[0m\u001b[1;33m\u001b[0m\u001b[0m\n",
      "\u001b[1;32m~\\Anaconda3\\lib\\site-packages\\instaloader\\instaloadercontext.py\u001b[0m in \u001b[0;36mget_json\u001b[1;34m(self, path, params, host, session, _attempt)\u001b[0m\n\u001b[0;32m    309\u001b[0m         \u001b[0msess\u001b[0m \u001b[1;33m=\u001b[0m \u001b[0msession\u001b[0m \u001b[1;32mif\u001b[0m \u001b[0msession\u001b[0m \u001b[1;32melse\u001b[0m \u001b[0mself\u001b[0m\u001b[1;33m.\u001b[0m\u001b[0m_session\u001b[0m\u001b[1;33m\u001b[0m\u001b[1;33m\u001b[0m\u001b[0m\n\u001b[0;32m    310\u001b[0m         \u001b[1;32mtry\u001b[0m\u001b[1;33m:\u001b[0m\u001b[1;33m\u001b[0m\u001b[1;33m\u001b[0m\u001b[0m\n\u001b[1;32m--> 311\u001b[1;33m             \u001b[0mself\u001b[0m\u001b[1;33m.\u001b[0m\u001b[0mdo_sleep\u001b[0m\u001b[1;33m(\u001b[0m\u001b[1;33m)\u001b[0m\u001b[1;33m\u001b[0m\u001b[1;33m\u001b[0m\u001b[0m\n\u001b[0m\u001b[0;32m    312\u001b[0m             \u001b[1;32mif\u001b[0m \u001b[0mis_graphql_query\u001b[0m\u001b[1;33m:\u001b[0m\u001b[1;33m\u001b[0m\u001b[1;33m\u001b[0m\u001b[0m\n\u001b[0;32m    313\u001b[0m                 \u001b[0mself\u001b[0m\u001b[1;33m.\u001b[0m\u001b[0m_rate_controller\u001b[0m\u001b[1;33m.\u001b[0m\u001b[0mwait_before_query\u001b[0m\u001b[1;33m(\u001b[0m\u001b[0mparams\u001b[0m\u001b[1;33m[\u001b[0m\u001b[1;34m'query_hash'\u001b[0m\u001b[1;33m]\u001b[0m\u001b[1;33m)\u001b[0m\u001b[1;33m\u001b[0m\u001b[1;33m\u001b[0m\u001b[0m\n",
      "\u001b[1;32m~\\Anaconda3\\lib\\site-packages\\instaloader\\instaloadercontext.py\u001b[0m in \u001b[0;36mdo_sleep\u001b[1;34m(self)\u001b[0m\n\u001b[0;32m    289\u001b[0m         \u001b[1;34m\"\"\"Sleep a short time if self.sleep is set. Called before each request to instagram.com.\"\"\"\u001b[0m\u001b[1;33m\u001b[0m\u001b[1;33m\u001b[0m\u001b[0m\n\u001b[0;32m    290\u001b[0m         \u001b[1;32mif\u001b[0m \u001b[0mself\u001b[0m\u001b[1;33m.\u001b[0m\u001b[0msleep\u001b[0m\u001b[1;33m:\u001b[0m\u001b[1;33m\u001b[0m\u001b[1;33m\u001b[0m\u001b[0m\n\u001b[1;32m--> 291\u001b[1;33m             \u001b[0mtime\u001b[0m\u001b[1;33m.\u001b[0m\u001b[0msleep\u001b[0m\u001b[1;33m(\u001b[0m\u001b[0mmin\u001b[0m\u001b[1;33m(\u001b[0m\u001b[0mrandom\u001b[0m\u001b[1;33m.\u001b[0m\u001b[0mexpovariate\u001b[0m\u001b[1;33m(\u001b[0m\u001b[1;36m0.6\u001b[0m\u001b[1;33m)\u001b[0m\u001b[1;33m,\u001b[0m \u001b[1;36m15.0\u001b[0m\u001b[1;33m)\u001b[0m\u001b[1;33m)\u001b[0m\u001b[1;33m\u001b[0m\u001b[1;33m\u001b[0m\u001b[0m\n\u001b[0m\u001b[0;32m    292\u001b[0m \u001b[1;33m\u001b[0m\u001b[0m\n\u001b[0;32m    293\u001b[0m     def get_json(self, path: str, params: Dict[str, Any], host: str = 'www.instagram.com',\n",
      "\u001b[1;31mKeyboardInterrupt\u001b[0m: "
     ]
    }
   ],
   "source": [
    "#to download all the posts of a profile \n",
    "import instaloader\n",
    "#creating object\n",
    "d = instaloader.Instaloader()\n",
    "#sepcifying the profile name\n",
    "profile_Name = 'justinpjtrudeau'\n",
    "#do profile_pic_only = True, to download the profile picture\n",
    "d.download_profile(profile_Name, profile_pic_only = False)\n",
    "#you will notice a folder of this profile's name, under which all the posts will get downloaded"
   ]
  },
  {
   "cell_type": "code",
   "execution_count": null,
   "metadata": {},
   "outputs": [],
   "source": []
  }
 ],
 "metadata": {
  "kernelspec": {
   "display_name": "Python 3",
   "language": "python",
   "name": "python3"
  },
  "language_info": {
   "codemirror_mode": {
    "name": "ipython",
    "version": 3
   },
   "file_extension": ".py",
   "mimetype": "text/x-python",
   "name": "python",
   "nbconvert_exporter": "python",
   "pygments_lexer": "ipython3",
   "version": "3.7.1"
  }
 },
 "nbformat": 4,
 "nbformat_minor": 2
}
