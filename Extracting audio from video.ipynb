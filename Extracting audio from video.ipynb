{
 "cells": [
  {
   "cell_type": "markdown",
   "metadata": {},
   "source": [
    "There are certain situations when we have the mp4 file but we only need the audio from it. We struggle enough to get the same audio file, but we fail and unfortunately, we decide to choose the other music file. This problem is solved with the python library “moviepy”, as we can extract the audio from the video files through this."
   ]
  },
  {
   "cell_type": "code",
   "execution_count": 1,
   "metadata": {
    "collapsed": true
   },
   "outputs": [
    {
     "name": "stdout",
     "output_type": "stream",
     "text": [
      "Collecting moviepy\n",
      "  Downloading https://files.pythonhosted.org/packages/18/54/01a8c4e35c75ca9724d19a7e4de9dc23f0ceb8769102c7de056113af61c3/moviepy-1.0.3.tar.gz (388kB)\n",
      "Requirement already satisfied: decorator<5.0,>=4.0.2 in c:\\users\\lavy_\\anaconda3\\lib\\site-packages (from moviepy) (4.4.0)\n",
      "Requirement already satisfied: tqdm<5.0,>=4.11.2 in c:\\users\\lavy_\\anaconda3\\lib\\site-packages (from moviepy) (4.32.1)\n",
      "Requirement already satisfied: requests<3.0,>=2.8.1 in c:\\users\\lavy_\\anaconda3\\lib\\site-packages (from moviepy) (2.22.0)\n",
      "Collecting proglog<=1.0.0 (from moviepy)\n",
      "  Downloading https://files.pythonhosted.org/packages/fe/ab/4cb19b578e1364c0b2d6efd6521a8b4b4e5c4ae6528041d31a2a951dd991/proglog-0.1.9.tar.gz\n",
      "Collecting numpy>=1.17.3 (from moviepy)\n",
      "  Downloading https://files.pythonhosted.org/packages/ff/18/60ac053857fb924b0324c81200b59c00317ebaa3c14b7478266b50ffed19/numpy-1.19.5-cp37-cp37m-win_amd64.whl (13.2MB)\n",
      "Requirement already satisfied: imageio<3.0,>=2.5 in c:\\users\\lavy_\\anaconda3\\lib\\site-packages (from moviepy) (2.5.0)\n",
      "Collecting imageio_ffmpeg>=0.2.0 (from moviepy)\n",
      "  Downloading https://files.pythonhosted.org/packages/c3/da/152b7e7a4ef300cf96fae41fab321163d9cd2c5c6b504c9e20a1a83c7575/imageio_ffmpeg-0.4.3-py3-none-win_amd64.whl (22.6MB)\n",
      "Requirement already satisfied: certifi>=2017.4.17 in c:\\users\\lavy_\\anaconda3\\lib\\site-packages (from requests<3.0,>=2.8.1->moviepy) (2020.6.20)\n",
      "Requirement already satisfied: urllib3!=1.25.0,!=1.25.1,<1.26,>=1.21.1 in c:\\users\\lavy_\\anaconda3\\lib\\site-packages (from requests<3.0,>=2.8.1->moviepy) (1.24.2)\n",
      "Requirement already satisfied: idna<2.9,>=2.5 in c:\\users\\lavy_\\anaconda3\\lib\\site-packages (from requests<3.0,>=2.8.1->moviepy) (2.8)\n",
      "Requirement already satisfied: chardet<3.1.0,>=3.0.2 in c:\\users\\lavy_\\anaconda3\\lib\\site-packages (from requests<3.0,>=2.8.1->moviepy) (3.0.4)\n",
      "Building wheels for collected packages: moviepy, proglog\n",
      "  Building wheel for moviepy (setup.py): started\n",
      "  Building wheel for moviepy (setup.py): finished with status 'done'\n",
      "  Stored in directory: C:\\Users\\lavy_\\AppData\\Local\\pip\\Cache\\wheels\\e0\\fe\\1c\\f4e6dca9e828d4b979c04e461d7fcc5b8e7bd35f947e665b65\n",
      "  Building wheel for proglog (setup.py): started\n",
      "  Building wheel for proglog (setup.py): finished with status 'done'\n",
      "  Stored in directory: C:\\Users\\lavy_\\AppData\\Local\\pip\\Cache\\wheels\\65\\56\\60\\1d0306a8d90b188af393c1812ddb502a8821b70917f82dcc00\n",
      "Successfully built moviepy proglog\n",
      "Installing collected packages: proglog, numpy, imageio-ffmpeg, moviepy\n",
      "  Found existing installation: numpy 1.16.4\n",
      "    Uninstalling numpy-1.16.4:\n",
      "      Successfully uninstalled numpy-1.16.4\n",
      "Successfully installed imageio-ffmpeg-0.4.3 moviepy-1.0.3 numpy-1.19.5 proglog-0.1.9\n",
      "Note: you may need to restart the kernel to use updated packages.\n"
     ]
    }
   ],
   "source": [
    "pip install moviepy"
   ]
  },
  {
   "cell_type": "code",
   "execution_count": 7,
   "metadata": {},
   "outputs": [
    {
     "name": "stdout",
     "output_type": "stream",
     "text": [
      "MoviePy - Writing audio in Audio.mp3\n"
     ]
    },
    {
     "name": "stderr",
     "output_type": "stream",
     "text": [
      "                                                                                                                       \r"
     ]
    },
    {
     "name": "stdout",
     "output_type": "stream",
     "text": [
      "MoviePy - Done.\n"
     ]
    }
   ],
   "source": [
    "#import library \n",
    "import moviepy.editor as mp \n",
    "#specify the mp4 file here(mention the file path if it is in different directory)\n",
    "clip = mp.VideoFileClip(r'C:\\Users\\lavy_\\OneDrive\\Pictures\\Video Projects\\10000000_694136504321620_7583939259447032344_n.mp4')\n",
    "#specify the name for mp3 extracted\n",
    "clip.audio.write_audiofile('Audio.mp3')\n",
    "#you will notice mp3 file will be created at the specified location"
   ]
  },
  {
   "cell_type": "code",
   "execution_count": null,
   "metadata": {},
   "outputs": [],
   "source": []
  }
 ],
 "metadata": {
  "kernelspec": {
   "display_name": "Python 3",
   "language": "python",
   "name": "python3"
  },
  "language_info": {
   "codemirror_mode": {
    "name": "ipython",
    "version": 3
   },
   "file_extension": ".py",
   "mimetype": "text/x-python",
   "name": "python",
   "nbconvert_exporter": "python",
   "pygments_lexer": "ipython3",
   "version": "3.7.1"
  }
 },
 "nbformat": 4,
 "nbformat_minor": 2
}
