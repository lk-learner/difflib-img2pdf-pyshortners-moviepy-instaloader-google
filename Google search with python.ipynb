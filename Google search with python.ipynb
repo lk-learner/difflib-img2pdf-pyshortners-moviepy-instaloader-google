{
 "cells": [
  {
   "cell_type": "markdown",
   "metadata": {},
   "source": [
    "Sometimes we get so much into programming that we feel lazy enough to open the browser and search our queries. But with the amazing python library “google”, we can search our queries by just writing 3 lines of code without manually opening the browser and searching our query on it. "
   ]
  },
  {
   "cell_type": "code",
   "execution_count": 1,
   "metadata": {},
   "outputs": [
    {
     "name": "stdout",
     "output_type": "stream",
     "text": [
      "Collecting google\n",
      "  Downloading https://files.pythonhosted.org/packages/ac/35/17c9141c4ae21e9a29a43acdfd848e3e468a810517f862cad07977bf8fe9/google-3.0.0-py2.py3-none-any.whl (45kB)\n",
      "Requirement already satisfied: beautifulsoup4 in c:\\users\\lavy_\\anaconda3\\lib\\site-packages (from google) (4.7.1)\n",
      "Requirement already satisfied: soupsieve>=1.2 in c:\\users\\lavy_\\anaconda3\\lib\\site-packages (from beautifulsoup4->google) (1.8)\n",
      "Installing collected packages: google\n",
      "Successfully installed google-3.0.0\n",
      "Note: you may need to restart the kernel to use updated packages.\n"
     ]
    }
   ],
   "source": [
    "pip install google"
   ]
  },
  {
   "cell_type": "code",
   "execution_count": 2,
   "metadata": {},
   "outputs": [
    {
     "name": "stdout",
     "output_type": "stream",
     "text": [
      "https://hackr.io/blog/best-python-courses\n",
      "https://medium.com/better-programming/top-5-courses-to-learn-python-in-2018-best-of-lot-26644a99e7ec\n",
      "https://www.techradar.com/best/python-online-courses\n",
      "https://www.coursera.org/courses?query=python\n",
      "https://www.pcworld.com/article/3287981/best-python-courses.html\n",
      "https://digitaldefynd.com/best-python-tutorial-class-certification-course-training-online/\n",
      "https://www.benzinga.com/money/beginning-python-courses/\n",
      "https://www.edx.org/learn/python\n",
      "https://www.quora.com/What-are-the-best-python-programming-online-courses\n",
      "https://www.udemy.com/topic/python/\n"
     ]
    }
   ],
   "source": [
    "#import library \n",
    "from googlesearch import search\n",
    "#write your query\n",
    "query = \"best course for python\"\n",
    "# displaying 10 results from the search\n",
    "for i in search(query, tld=\"co.in\", num=10, stop=10, pause=2):\n",
    "    print(i)\n",
    "#you will notice the 10 search results(website links) in the output."
   ]
  },
  {
   "cell_type": "code",
   "execution_count": null,
   "metadata": {},
   "outputs": [],
   "source": []
  }
 ],
 "metadata": {
  "kernelspec": {
   "display_name": "Python 3",
   "language": "python",
   "name": "python3"
  },
  "language_info": {
   "codemirror_mode": {
    "name": "ipython",
    "version": 3
   },
   "file_extension": ".py",
   "mimetype": "text/x-python",
   "name": "python",
   "nbconvert_exporter": "python",
   "pygments_lexer": "ipython3",
   "version": "3.7.1"
  }
 },
 "nbformat": 4,
 "nbformat_minor": 2
}
