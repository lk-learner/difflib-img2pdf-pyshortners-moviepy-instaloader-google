{
 "cells": [
  {
   "cell_type": "markdown",
   "metadata": {},
   "source": [
    "One of the most important factors for dealing with content writing is Plagiarism. It’s not even possible to check the files manually when they are in bundles. There comes the need for the Plagiarism detector tool. We can also create our own plagiarism detector with the help of the  python library “difflib”. It can be used to check similarities between two or more files on a device."
   ]
  },
  {
   "cell_type": "code",
   "execution_count": null,
   "metadata": {},
   "outputs": [],
   "source": [
    "#import the required library\n",
    "from difflib import SequenceMatcher\n",
    "#opening two text files\n",
    "with open('file_one.txt') as file_1, open('file_two.txt') as file_2: \n",
    "    #read the files in another variables\n",
    "    file1_data = file_1.read() \n",
    "    file2_data = file_2.read() \n",
    "    #since we have taken two files for detecting plagiarism, we mention two them here\n",
    "    similarity_ratio = SequenceMatcher(None,file1_data,file2_data).ratio() \n",
    "    #print the plagiarsim ratio\n",
    "    print(similarity_ratio)"
   ]
  },
  {
   "cell_type": "code",
   "execution_count": null,
   "metadata": {},
   "outputs": [],
   "source": []
  }
 ],
 "metadata": {
  "kernelspec": {
   "display_name": "Python 3",
   "language": "python",
   "name": "python3"
  },
  "language_info": {
   "codemirror_mode": {
    "name": "ipython",
    "version": 3
   },
   "file_extension": ".py",
   "mimetype": "text/x-python",
   "name": "python",
   "nbconvert_exporter": "python",
   "pygments_lexer": "ipython3",
   "version": "3.7.1"
  }
 },
 "nbformat": 4,
 "nbformat_minor": 2
}
