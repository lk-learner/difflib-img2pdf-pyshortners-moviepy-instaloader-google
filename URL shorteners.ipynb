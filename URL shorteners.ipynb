{
 "cells": [
  {
   "cell_type": "markdown",
   "metadata": {},
   "source": [
    "Dealing with long URLs is a hectic task when you have to regularly work with them. There comes the idea of URL Shorteners(such as bit.ly and tinyurl). These services shorten the URL to below 50 characters. We can create our own URL shortener with the help of the python library “pyshorteners”."
   ]
  },
  {
   "cell_type": "code",
   "execution_count": 2,
   "metadata": {
    "collapsed": true
   },
   "outputs": [
    {
     "name": "stdout",
     "output_type": "stream",
     "text": [
      "Collecting pyshorteners\n",
      "  Downloading https://files.pythonhosted.org/packages/80/13/7dd5f53ac009775e18861f41efadf78160e1015c84a476d373957cb63b5c/pyshorteners-1.0.1.tar.gz\n",
      "Requirement already satisfied: requests in c:\\users\\lavy_\\anaconda3\\lib\\site-packages (from pyshorteners) (2.22.0)\n",
      "Requirement already satisfied: urllib3!=1.25.0,!=1.25.1,<1.26,>=1.21.1 in c:\\users\\lavy_\\anaconda3\\lib\\site-packages (from requests->pyshorteners) (1.24.2)\n",
      "Requirement already satisfied: certifi>=2017.4.17 in c:\\users\\lavy_\\anaconda3\\lib\\site-packages (from requests->pyshorteners) (2020.6.20)\n",
      "Requirement already satisfied: chardet<3.1.0,>=3.0.2 in c:\\users\\lavy_\\anaconda3\\lib\\site-packages (from requests->pyshorteners) (3.0.4)\n",
      "Requirement already satisfied: idna<2.9,>=2.5 in c:\\users\\lavy_\\anaconda3\\lib\\site-packages (from requests->pyshorteners) (2.8)\n",
      "Building wheels for collected packages: pyshorteners\n",
      "  Building wheel for pyshorteners (setup.py): started\n",
      "  Building wheel for pyshorteners (setup.py): finished with status 'done'\n",
      "  Stored in directory: C:\\Users\\lavy_\\AppData\\Local\\pip\\Cache\\wheels\\99\\2b\\ab\\854c6fdf96d6775ffe179ec99211af2adecb450108c477ada2\n",
      "Successfully built pyshorteners\n",
      "Installing collected packages: pyshorteners\n",
      "Successfully installed pyshorteners-1.0.1\n",
      "Note: you may need to restart the kernel to use updated packages.\n"
     ]
    }
   ],
   "source": [
    "pip install pyshorteners"
   ]
  },
  {
   "cell_type": "code",
   "execution_count": 3,
   "metadata": {},
   "outputs": [
    {
     "name": "stdout",
     "output_type": "stream",
     "text": [
      "https://tinyurl.com/yxqm49ng\n"
     ]
    }
   ],
   "source": [
    "#import library \n",
    "import pyshorteners\n",
    "#creating object\n",
    "s=pyshorteners.Shortener()\n",
    "#type the url\n",
    "url = \"https://www.youtube.com/watch?v=Klqn--Mu2pE/\"\n",
    "#print the shortend url\n",
    "print(s.tinyurl.short(url))"
   ]
  },
  {
   "cell_type": "code",
   "execution_count": null,
   "metadata": {},
   "outputs": [],
   "source": []
  }
 ],
 "metadata": {
  "kernelspec": {
   "display_name": "Python 3",
   "language": "python",
   "name": "python3"
  },
  "language_info": {
   "codemirror_mode": {
    "name": "ipython",
    "version": 3
   },
   "file_extension": ".py",
   "mimetype": "text/x-python",
   "name": "python",
   "nbconvert_exporter": "python",
   "pygments_lexer": "ipython3",
   "version": "3.7.1"
  }
 },
 "nbformat": 4,
 "nbformat_minor": 2
}
